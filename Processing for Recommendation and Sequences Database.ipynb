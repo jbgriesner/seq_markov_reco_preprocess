{
 "cells": [
  {
   "cell_type": "code",
   "execution_count": 2,
   "metadata": {},
   "outputs": [],
   "source": [
    "import pandas as pd\n",
    "from tqdm import tqdm\n",
    "import os\n",
    "\n",
    "from datetime import date as dt\n",
    "from datetime import datetime\n",
    "\n",
    "from src.utils import train_tune_test_split, filter_rows, get_count"
   ]
  },
  {
   "cell_type": "code",
   "execution_count": 6,
   "metadata": {},
   "outputs": [
    {
     "name": "stdout",
     "output_type": "stream",
     "text": [
      "The autoreload extension is already loaded. To reload it, use:\n",
      "  %reload_ext autoreload\n"
     ]
    }
   ],
   "source": [
    "t_mall = '/home/jb/ved/datasets/Tmall/ijcai2016_taobao.csv'\n",
    "ta_feng = '/home/jb/ved/datasets/Ta_feng/ta_feng_all_months_merged.csv'\n",
    "\n",
    "# for auto-reloading external modules\n",
    "%load_ext autoreload\n",
    "%autoreload 2\n",
    "pd.options.display.max_rows = 500"
   ]
  },
  {
   "cell_type": "markdown",
   "metadata": {},
   "source": [
    "# Tmall Dataset"
   ]
  },
  {
   "cell_type": "code",
   "execution_count": 233,
   "metadata": {
    "collapsed": true
   },
   "outputs": [
    {
     "name": "stderr",
     "output_type": "stream",
     "text": [
      "/home/jb/.cache/pypoetry/virtualenvs/data-processing-for-seq-embeddings-reco-4gay54Wi-py3.8/lib/python3.8/site-packages/IPython/core/interactiveshell.py:3071: DtypeWarning: Columns (0,2,4,5) have mixed types.Specify dtype option on import or set low_memory=False.\n",
      "  has_raised = await self.run_ast_nodes(code_ast.body, cell_name,\n"
     ]
    }
   ],
   "source": [
    "df_tmall = pd.read_csv(t_mall, encoding=\"ISO-8859-1\", sep=',', error_bad_lines=False, usecols=[0,2,4,5], names=['user', 'item', 'action', 'time'])\n",
    "df_tmall = df_tmall[(df_tmall['action']==1)] \n",
    "df_tmall = df_tmall[['user', 'item', 'time']] \n",
    "\n",
    "# assume each user only makes at most one transaction everyday\n",
    "df_tmall['trans_id'] =  df_tmall['user'].astype(str) + df_tmall['time'].astype(str) \n",
    "# sort before finding the products in the same basket\n",
    "df_tmall = df_tmall.sort_values(['trans_id']) "
   ]
  },
  {
   "cell_type": "code",
   "execution_count": 235,
   "metadata": {},
   "outputs": [
    {
     "name": "stderr",
     "output_type": "stream",
     "text": [
      "100%|██████████| 9336595/9336595 [01:30<00:00, 102731.73it/s]\n"
     ]
    }
   ],
   "source": [
    "# Associate transaction id for each row\n",
    "user = df_tmall.user.values[0]\n",
    "trans_buf_id = df_tmall.trans_id.values[0]\n",
    "trans = 0\n",
    "trans_id_list = []\n",
    "for i in tqdm(range(df_tmall.shape[0])):\n",
    "    if df_tmall.user.values[i] == user:\n",
    "        if df_tmall.trans_id.values[i] != trans_buf_id:\n",
    "            trans += 1\n",
    "            trans_buf_id = df_tmall.trans_id.values[i]\n",
    "        trans_id_list.append(trans)\n",
    "    else:\n",
    "        user = df_tmall.user.values[i]\n",
    "        trans_buf_id = df_tmall.trans_id.values[i]\n",
    "        trans = 0\n",
    "        trans_id_list.append(trans)\n",
    "df_tmall['trans_id'] = trans_id_list"
   ]
  },
  {
   "cell_type": "code",
   "execution_count": 239,
   "metadata": {},
   "outputs": [],
   "source": [
    "# remove users with less than 'min_uc' counts, and items with less than 'min_sc' counts\n",
    "# k-cores filtering, cf. FPMC\n",
    "df_tmall, user_activity, item_popularity = filter_rows(df_tmall, min_uc=25, min_sc=15)"
   ]
  },
  {
   "cell_type": "code",
   "execution_count": 242,
   "metadata": {},
   "outputs": [
    {
     "name": "stdout",
     "output_type": "stream",
     "text": [
      "After filtering:\n",
      "   users: 17143\n",
      "   items: 23925\n"
     ]
    }
   ],
   "source": [
    "users = df_tmall.user.nunique()\n",
    "items = df_tmall.item.nunique()\n",
    "print(f\"After filtering:\\n   users: {users}\\n   items: {items}\")"
   ]
  },
  {
   "cell_type": "code",
   "execution_count": 245,
   "metadata": {},
   "outputs": [
    {
     "name": "stderr",
     "output_type": "stream",
     "text": [
      "100%|██████████| 640893/640893 [00:08<00:00, 71403.13it/s]\n"
     ]
    },
    {
     "data": {
      "text/html": [
       "<div>\n",
       "<style scoped>\n",
       "    .dataframe tbody tr th:only-of-type {\n",
       "        vertical-align: middle;\n",
       "    }\n",
       "\n",
       "    .dataframe tbody tr th {\n",
       "        vertical-align: top;\n",
       "    }\n",
       "\n",
       "    .dataframe thead th {\n",
       "        text-align: right;\n",
       "    }\n",
       "</style>\n",
       "<table border=\"1\" class=\"dataframe\">\n",
       "  <thead>\n",
       "    <tr style=\"text-align: right;\">\n",
       "      <th></th>\n",
       "      <th>user</th>\n",
       "      <th>item</th>\n",
       "      <th>trans_id</th>\n",
       "    </tr>\n",
       "  </thead>\n",
       "  <tbody>\n",
       "    <tr>\n",
       "      <th>20558752</th>\n",
       "      <td>1000105</td>\n",
       "      <td>205453</td>\n",
       "      <td>0</td>\n",
       "    </tr>\n",
       "    <tr>\n",
       "      <th>20696166</th>\n",
       "      <td>1000105</td>\n",
       "      <td>361850</td>\n",
       "      <td>0</td>\n",
       "    </tr>\n",
       "    <tr>\n",
       "      <th>30983520</th>\n",
       "      <td>1000105</td>\n",
       "      <td>533325</td>\n",
       "      <td>0</td>\n",
       "    </tr>\n",
       "    <tr>\n",
       "      <th>20713303</th>\n",
       "      <td>1000105</td>\n",
       "      <td>1015542</td>\n",
       "      <td>0</td>\n",
       "    </tr>\n",
       "    <tr>\n",
       "      <th>37927052</th>\n",
       "      <td>1000105</td>\n",
       "      <td>2126251</td>\n",
       "      <td>1</td>\n",
       "    </tr>\n",
       "  </tbody>\n",
       "</table>\n",
       "</div>"
      ],
      "text/plain": [
       "             user     item  trans_id\n",
       "20558752  1000105   205453         0\n",
       "20696166  1000105   361850         0\n",
       "30983520  1000105   533325         0\n",
       "20713303  1000105  1015542         0\n",
       "37927052  1000105  2126251         1"
      ]
     },
     "execution_count": 245,
     "metadata": {},
     "output_type": "execute_result"
    }
   ],
   "source": [
    "# exclude users with less than 10 transactions in total\n",
    "user = df_tmall.user.values[0]\n",
    "start = 0\n",
    "df_list = []\n",
    "train_test = [] # initial train_test indicator\n",
    "for i in tqdm(range(df_tmall.shape[0])): # find transactions of each customer\n",
    "    if df_tmall['user'].values[i] == user:\n",
    "        continue\n",
    "    df_user = df_tmall.iloc[start:i,:].copy()\n",
    "    if df_user.trans_id.max() > 9: \n",
    "        df_list.append(df_user)\n",
    "    user = df_tmall.user.values[i]\n",
    "    start = i\n",
    "df_tmall_filtered = pd.concat(df_list)\n",
    "df_tmall_filtered = df_tmall_filtered[['user', 'item', 'trans_id']]\n",
    "df_tmall_filtered.head(5)"
   ]
  },
  {
   "cell_type": "code",
   "execution_count": 246,
   "metadata": {},
   "outputs": [
    {
     "name": "stdout",
     "output_type": "stream",
     "text": [
      "After transaction filtering:\n",
      "   users: 14279\n",
      "   items: 23742\n"
     ]
    }
   ],
   "source": [
    "users = df_tmall_filtered.user.nunique()\n",
    "items = df_tmall_filtered.item.nunique()\n",
    "print(f\"After transaction filtering:\\n   users: {users}\\n   items: {items}\")"
   ]
  },
  {
   "cell_type": "code",
   "execution_count": 250,
   "metadata": {},
   "outputs": [
    {
     "name": "stdout",
     "output_type": "stream",
     "text": [
      "Dataset sparsity: 0.16%\n"
     ]
    }
   ],
   "source": [
    "sparsity = 1. * df_tmall_filtered.shape[0] / (users * items)\n",
    "print(f\"Dataset sparsity: {round(sparsity*100, 2)}%\")"
   ]
  },
  {
   "cell_type": "code",
   "execution_count": 252,
   "metadata": {},
   "outputs": [],
   "source": [
    "# structures used to numerize the id (ie. to associate incremental integers to have a continuous list of numbers as ids)\n",
    "users_id = pd.unique(df_tmall_filtered['user'])\n",
    "items_id = pd.unique(df_tmall_filtered['item'])"
   ]
  },
  {
   "cell_type": "code",
   "execution_count": 254,
   "metadata": {},
   "outputs": [],
   "source": [
    "item2id = dict((iid, i) for (i, iid) in enumerate(items_id))\n",
    "user2id = dict((uid, i) for (i, uid) in enumerate(users_id))\n",
    "\n",
    "# def numerize(tp):\n",
    "#     uid = list(map(lambda x: user2id[x], tp['user']))\n",
    "#     iid = list(map(lambda x: item2id[x], tp['item']))\n",
    "#     return pd.DataFrame(data={'uid': uid, 'iid': iid, 'tid': tp['trans_id']}, columns=['uid', 'iid', 'tid'])"
   ]
  },
  {
   "cell_type": "code",
   "execution_count": 256,
   "metadata": {},
   "outputs": [
    {
     "data": {
      "text/html": [
       "<div>\n",
       "<style scoped>\n",
       "    .dataframe tbody tr th:only-of-type {\n",
       "        vertical-align: middle;\n",
       "    }\n",
       "\n",
       "    .dataframe tbody tr th {\n",
       "        vertical-align: top;\n",
       "    }\n",
       "\n",
       "    .dataframe thead th {\n",
       "        text-align: right;\n",
       "    }\n",
       "</style>\n",
       "<table border=\"1\" class=\"dataframe\">\n",
       "  <thead>\n",
       "    <tr style=\"text-align: right;\">\n",
       "      <th></th>\n",
       "      <th>user</th>\n",
       "      <th>item</th>\n",
       "      <th>tid</th>\n",
       "    </tr>\n",
       "  </thead>\n",
       "  <tbody>\n",
       "    <tr>\n",
       "      <th>20558752</th>\n",
       "      <td>0</td>\n",
       "      <td>0</td>\n",
       "      <td>0</td>\n",
       "    </tr>\n",
       "    <tr>\n",
       "      <th>20696166</th>\n",
       "      <td>0</td>\n",
       "      <td>1</td>\n",
       "      <td>0</td>\n",
       "    </tr>\n",
       "    <tr>\n",
       "      <th>30983520</th>\n",
       "      <td>0</td>\n",
       "      <td>2</td>\n",
       "      <td>0</td>\n",
       "    </tr>\n",
       "    <tr>\n",
       "      <th>20713303</th>\n",
       "      <td>0</td>\n",
       "      <td>3</td>\n",
       "      <td>0</td>\n",
       "    </tr>\n",
       "    <tr>\n",
       "      <th>37927052</th>\n",
       "      <td>0</td>\n",
       "      <td>4</td>\n",
       "      <td>1</td>\n",
       "    </tr>\n",
       "    <tr>\n",
       "      <th>40672291</th>\n",
       "      <td>0</td>\n",
       "      <td>5</td>\n",
       "      <td>2</td>\n",
       "    </tr>\n",
       "    <tr>\n",
       "      <th>31106013</th>\n",
       "      <td>0</td>\n",
       "      <td>6</td>\n",
       "      <td>2</td>\n",
       "    </tr>\n",
       "    <tr>\n",
       "      <th>31231583</th>\n",
       "      <td>0</td>\n",
       "      <td>7</td>\n",
       "      <td>2</td>\n",
       "    </tr>\n",
       "    <tr>\n",
       "      <th>30898588</th>\n",
       "      <td>0</td>\n",
       "      <td>8</td>\n",
       "      <td>2</td>\n",
       "    </tr>\n",
       "    <tr>\n",
       "      <th>40772729</th>\n",
       "      <td>0</td>\n",
       "      <td>9</td>\n",
       "      <td>2</td>\n",
       "    </tr>\n",
       "  </tbody>\n",
       "</table>\n",
       "</div>"
      ],
      "text/plain": [
       "          user  item  tid\n",
       "20558752     0     0    0\n",
       "20696166     0     1    0\n",
       "30983520     0     2    0\n",
       "20713303     0     3    0\n",
       "37927052     0     4    1\n",
       "40672291     0     5    2\n",
       "31106013     0     6    2\n",
       "31231583     0     7    2\n",
       "30898588     0     8    2\n",
       "40772729     0     9    2"
      ]
     },
     "execution_count": 256,
     "metadata": {},
     "output_type": "execute_result"
    }
   ],
   "source": [
    "numerized_data = df_tmall_filtered\n",
    "numerized_data.user = numerized_data.user.apply(lambda x: user2id[x])\n",
    "numerized_data.item = numerized_data.item.apply(lambda x: item2id[x])\n",
    "numerized_data = numerized_data.rename(columns={'trans_id': 'tid'})\n",
    "numerized_data.head(10)"
   ]
  },
  {
   "cell_type": "code",
   "execution_count": 274,
   "metadata": {
    "scrolled": true
   },
   "outputs": [
    {
     "name": "stderr",
     "output_type": "stream",
     "text": [
      "100%|██████████| 549194/549194 [01:35<00:00, 5738.35it/s]\n",
      "/home/jb/.cache/pypoetry/virtualenvs/data-processing-for-seq-embeddings-reco-4gay54Wi-py3.8/lib/python3.8/site-packages/numpy/core/_asarray.py:83: VisibleDeprecationWarning: Creating an ndarray from ragged nested sequences (which is a list-or-tuple of lists-or-tuples-or ndarrays with different lengths or shapes) is deprecated. If you meant to do this, you must specify 'dtype=object' when creating the ndarray\n",
      "  return array(a, dtype, copy=False, order=order)\n"
     ]
    }
   ],
   "source": [
    "# convert into sequences for each user\n",
    "start = 0\n",
    "df_dict_train = {}\n",
    "df_dict_test = {}\n",
    "df_dict_test_user_bool = {}\n",
    "buf_seq_train = []\n",
    "buf_seq_test = []\n",
    "user = numerized_data.user.values[0]\n",
    "\n",
    "for i in tqdm(range(numerized_data.shape[0])):\n",
    "    if numerized_data['user'].values[i] == user:\n",
    "        continue\n",
    "    df_user = numerized_data.iloc[start:i,:].copy()\n",
    "    user_known_items = set()\n",
    "\n",
    "    for j in range(0, df_user.tid.max() + 1):            \n",
    "        trans_items = set(df_user.loc[df_user.tid == j,'item'])\n",
    "        if not len(trans_items) == 0:\n",
    "            if j == df_user.tid.max():\n",
    "                test_trans_items = set()\n",
    "                for k in trans_items:\n",
    "                    if k not in user_known_items:\n",
    "                        test_trans_items.add(k)\n",
    "                if len(test_trans_items) == 0:\n",
    "                    df_dict_test_user_bool[user] = 0\n",
    "                else:\n",
    "                    df_dict_test_user_bool[user] = 1\n",
    "                buf_seq_test.append(test_trans_items)\n",
    "            else:    \n",
    "                for k in trans_items:\n",
    "                    user_known_items.add(k)\n",
    "                buf_seq_train.append(trans_items)\n",
    "    \n",
    "    df_dict_train[user] = buf_seq_train\n",
    "    df_dict_test[user] = buf_seq_test\n",
    "\n",
    "    buf_seq_test = []\n",
    "    buf_seq_train = []\n",
    "    user = numerized_data.user.values[i]\n",
    "    start = i    \n",
    "    \n",
    "sequences = pd.DataFrame()\n",
    "sequences['user'] = df_dict_train.keys()\n",
    "sequences['test_user'] = df_dict_test_user_bool.values()\n",
    "sequences['sequence_train'] = df_dict_train.values()\n",
    "sequences['sequence_test'] = df_dict_test.values()"
   ]
  },
  {
   "cell_type": "code",
   "execution_count": 277,
   "metadata": {},
   "outputs": [
    {
     "data": {
      "text/html": [
       "<div>\n",
       "<style scoped>\n",
       "    .dataframe tbody tr th:only-of-type {\n",
       "        vertical-align: middle;\n",
       "    }\n",
       "\n",
       "    .dataframe tbody tr th {\n",
       "        vertical-align: top;\n",
       "    }\n",
       "\n",
       "    .dataframe thead th {\n",
       "        text-align: right;\n",
       "    }\n",
       "</style>\n",
       "<table border=\"1\" class=\"dataframe\">\n",
       "  <thead>\n",
       "    <tr style=\"text-align: right;\">\n",
       "      <th></th>\n",
       "      <th>user</th>\n",
       "      <th>test_user</th>\n",
       "      <th>sequence_train</th>\n",
       "      <th>sequence_test</th>\n",
       "    </tr>\n",
       "  </thead>\n",
       "  <tbody>\n",
       "    <tr>\n",
       "      <th>0</th>\n",
       "      <td>0</td>\n",
       "      <td>1</td>\n",
       "      <td>[{0, 1, 2, 3}, {4}, {5, 6, 7, 8, 9, 10}, {3, 1...</td>\n",
       "      <td>[{0, 1, 2, 3}, {4}, {5, 6, 7, 8, 9, 10}, {3, 1...</td>\n",
       "    </tr>\n",
       "    <tr>\n",
       "      <th>1</th>\n",
       "      <td>1</td>\n",
       "      <td>1</td>\n",
       "      <td>[{59, 53, 54, 55, 56, 25, 58, 27, 60, 61, 62, ...</td>\n",
       "      <td>[{59, 53, 54, 55, 56, 25, 58, 27, 60, 61, 62, ...</td>\n",
       "    </tr>\n",
       "    <tr>\n",
       "      <th>2</th>\n",
       "      <td>2</td>\n",
       "      <td>1</td>\n",
       "      <td>[{93}, {94}, {95}, {96, 97, 98, 99, 100, 101},...</td>\n",
       "      <td>[{93}, {94}, {95}, {96, 97, 98, 99, 100, 101},...</td>\n",
       "    </tr>\n",
       "    <tr>\n",
       "      <th>3</th>\n",
       "      <td>3</td>\n",
       "      <td>1</td>\n",
       "      <td>[{108}, {109}, {110}, {111}, {112, 113}, {114,...</td>\n",
       "      <td>[{108}, {109}, {110}, {111}, {112, 113}, {114,...</td>\n",
       "    </tr>\n",
       "    <tr>\n",
       "      <th>4</th>\n",
       "      <td>4</td>\n",
       "      <td>1</td>\n",
       "      <td>[{128, 129, 130, 131, 132}, {133}, {134}, {135...</td>\n",
       "      <td>[{128, 129, 130, 131, 132}, {133}, {134}, {135...</td>\n",
       "    </tr>\n",
       "    <tr>\n",
       "      <th>...</th>\n",
       "      <td>...</td>\n",
       "      <td>...</td>\n",
       "      <td>...</td>\n",
       "      <td>...</td>\n",
       "    </tr>\n",
       "    <tr>\n",
       "      <th>14271</th>\n",
       "      <td>14271</td>\n",
       "      <td>1</td>\n",
       "      <td>[{14605}, {4644}, {10338}, {9289}, {2988}, {18...</td>\n",
       "      <td>[{14605}, {4644}, {10338}, {9289}, {2988}, {18...</td>\n",
       "    </tr>\n",
       "    <tr>\n",
       "      <th>14272</th>\n",
       "      <td>14272</td>\n",
       "      <td>1</td>\n",
       "      <td>[{6394, 61}, {3225, 13820}, {3201}, {717}, {23...</td>\n",
       "      <td>[{6394, 61}, {3225, 13820}, {3201}, {717}, {23...</td>\n",
       "    </tr>\n",
       "    <tr>\n",
       "      <th>14273</th>\n",
       "      <td>14273</td>\n",
       "      <td>1</td>\n",
       "      <td>[{848, 18928, 15525}, {203}, {1842}, {13584, 8...</td>\n",
       "      <td>[{848, 18928, 15525}, {203}, {1842}, {13584, 8...</td>\n",
       "    </tr>\n",
       "    <tr>\n",
       "      <th>14274</th>\n",
       "      <td>14274</td>\n",
       "      <td>1</td>\n",
       "      <td>[{18855}, {937}, {4459}, {7314}, {9071}, {1273...</td>\n",
       "      <td>[{18855}, {937}, {4459}, {7314}, {9071}, {1273...</td>\n",
       "    </tr>\n",
       "    <tr>\n",
       "      <th>14275</th>\n",
       "      <td>14275</td>\n",
       "      <td>1</td>\n",
       "      <td>[{10864}, {8643}, {1549}, {3089}, {3089}, {650...</td>\n",
       "      <td>[{10864}, {8643}, {1549}, {3089}, {3089}, {650...</td>\n",
       "    </tr>\n",
       "  </tbody>\n",
       "</table>\n",
       "<p>12254 rows × 4 columns</p>\n",
       "</div>"
      ],
      "text/plain": [
       "        user  test_user                                     sequence_train  \\\n",
       "0          0          1  [{0, 1, 2, 3}, {4}, {5, 6, 7, 8, 9, 10}, {3, 1...   \n",
       "1          1          1  [{59, 53, 54, 55, 56, 25, 58, 27, 60, 61, 62, ...   \n",
       "2          2          1  [{93}, {94}, {95}, {96, 97, 98, 99, 100, 101},...   \n",
       "3          3          1  [{108}, {109}, {110}, {111}, {112, 113}, {114,...   \n",
       "4          4          1  [{128, 129, 130, 131, 132}, {133}, {134}, {135...   \n",
       "...      ...        ...                                                ...   \n",
       "14271  14271          1  [{14605}, {4644}, {10338}, {9289}, {2988}, {18...   \n",
       "14272  14272          1  [{6394, 61}, {3225, 13820}, {3201}, {717}, {23...   \n",
       "14273  14273          1  [{848, 18928, 15525}, {203}, {1842}, {13584, 8...   \n",
       "14274  14274          1  [{18855}, {937}, {4459}, {7314}, {9071}, {1273...   \n",
       "14275  14275          1  [{10864}, {8643}, {1549}, {3089}, {3089}, {650...   \n",
       "\n",
       "                                           sequence_test  \n",
       "0      [{0, 1, 2, 3}, {4}, {5, 6, 7, 8, 9, 10}, {3, 1...  \n",
       "1      [{59, 53, 54, 55, 56, 25, 58, 27, 60, 61, 62, ...  \n",
       "2      [{93}, {94}, {95}, {96, 97, 98, 99, 100, 101},...  \n",
       "3      [{108}, {109}, {110}, {111}, {112, 113}, {114,...  \n",
       "4      [{128, 129, 130, 131, 132}, {133}, {134}, {135...  \n",
       "...                                                  ...  \n",
       "14271  [{14605}, {4644}, {10338}, {9289}, {2988}, {18...  \n",
       "14272  [{6394, 61}, {3225, 13820}, {3201}, {717}, {23...  \n",
       "14273  [{848, 18928, 15525}, {203}, {1842}, {13584, 8...  \n",
       "14274  [{18855}, {937}, {4459}, {7314}, {9071}, {1273...  \n",
       "14275  [{10864}, {8643}, {1549}, {3089}, {3089}, {650...  \n",
       "\n",
       "[12254 rows x 4 columns]"
      ]
     },
     "execution_count": 277,
     "metadata": {},
     "output_type": "execute_result"
    }
   ],
   "source": [
    "sequences[sequences['test_user'] == 1]"
   ]
  },
  {
   "cell_type": "code",
   "execution_count": 278,
   "metadata": {},
   "outputs": [
    {
     "data": {
      "text/plain": [
       "[{0, 1, 2, 3},\n",
       " {4},\n",
       " {5, 6, 7, 8, 9, 10},\n",
       " {3, 11, 12, 13, 14},\n",
       " {7, 15, 16, 17, 18, 19, 20},\n",
       " {21},\n",
       " {22},\n",
       " {21, 23, 24, 25, 26, 27, 28, 29, 30, 31, 32, 33, 34, 35, 36, 37},\n",
       " {38},\n",
       " {24},\n",
       " {37, 39, 40, 41},\n",
       " {11, 42, 43},\n",
       " {44},\n",
       " {21},\n",
       " {8, 45, 46, 47, 48},\n",
       " {15, 49, 50}]"
      ]
     },
     "execution_count": 278,
     "metadata": {},
     "output_type": "execute_result"
    }
   ],
   "source": [
    "sequences.at[0, 'sequence_train']"
   ]
  },
  {
   "cell_type": "code",
   "execution_count": 281,
   "metadata": {},
   "outputs": [
    {
     "data": {
      "text/plain": [
       "({51, 52},)"
      ]
     },
     "execution_count": 281,
     "metadata": {},
     "output_type": "execute_result"
    }
   ],
   "source": [
    "sequences.at[0, 'sequence_test']"
   ]
  },
  {
   "cell_type": "markdown",
   "metadata": {},
   "source": [
    "# Ta-Feng Dataset"
   ]
  },
  {
   "cell_type": "code",
   "execution_count": 7,
   "metadata": {},
   "outputs": [
    {
     "name": "stderr",
     "output_type": "stream",
     "text": [
      "/home/jb/.cache/pypoetry/virtualenvs/data-processing-for-seq-embeddings-reco-8_F3BWAW-py3.8/lib/python3.8/site-packages/IPython/core/interactiveshell.py:3071: DtypeWarning: Columns (1,5) have mixed types.Specify dtype option on import or set low_memory=False.\n",
      "  has_raised = await self.run_ast_nodes(code_ast.body, cell_name,\n"
     ]
    }
   ],
   "source": [
    "df_ta_feng = pd.read_csv(ta_feng, encoding=\"ISO-8859-1\", sep=',', error_bad_lines=False, usecols=[0,1,5], names=['time', 'user', 'item'])\n",
    "\n",
    "# assume each user only makes at most one transaction everyday\n",
    "df_ta_feng['trans_id'] =  df_ta_feng['user'].astype(str) + df_ta_feng['time'].astype(str) \n",
    "# sort before finding the products in the same basket\n",
    "df_ta_feng = df_ta_feng.sort_values(['trans_id']) "
   ]
  },
  {
   "cell_type": "code",
   "execution_count": 9,
   "metadata": {},
   "outputs": [
    {
     "name": "stderr",
     "output_type": "stream",
     "text": [
      "100%|██████████| 817742/817742 [00:06<00:00, 126639.13it/s]\n"
     ]
    }
   ],
   "source": [
    "# Associate transaction id for each row\n",
    "user = df_ta_feng.user.values[0]\n",
    "trans_buf_id = df_ta_feng.trans_id.values[0]\n",
    "trans = 0\n",
    "trans_id_list = []\n",
    "for i in tqdm(range(df_ta_feng.shape[0])):\n",
    "    if df_ta_feng.user.values[i] == user:\n",
    "        if df_ta_feng.trans_id.values[i] != trans_buf_id:\n",
    "            trans += 1\n",
    "            trans_buf_id = df_ta_feng.trans_id.values[i]\n",
    "        trans_id_list.append(trans)\n",
    "    else:\n",
    "        user = df_ta_feng.user.values[i]\n",
    "        trans_buf_id = df_ta_feng.trans_id.values[i]\n",
    "        trans = 0\n",
    "        trans_id_list.append(trans)\n",
    "df_ta_feng['trans_id'] = trans_id_list"
   ]
  },
  {
   "cell_type": "code",
   "execution_count": 10,
   "metadata": {},
   "outputs": [],
   "source": [
    "# remove users with less than 'min_uc' counts, and items with less than 'min_sc' counts\n",
    "# k-cores filtering, cf. FPMC\n",
    "df_ta_feng, user_activity, item_popularity = filter_rows(df_ta_feng, min_uc=25, min_sc=15)"
   ]
  },
  {
   "cell_type": "code",
   "execution_count": 12,
   "metadata": {},
   "outputs": [
    {
     "name": "stdout",
     "output_type": "stream",
     "text": [
      "After filtering:\n",
      "   users: 8821\n",
      "   items: 9027\n"
     ]
    }
   ],
   "source": [
    "users = df_ta_feng.user.nunique()\n",
    "items = df_ta_feng.item.nunique()\n",
    "print(f\"After filtering:\\n   users: {users}\\n   items: {items}\")"
   ]
  },
  {
   "cell_type": "code",
   "execution_count": 13,
   "metadata": {},
   "outputs": [
    {
     "name": "stderr",
     "output_type": "stream",
     "text": [
      "100%|██████████| 467150/467150 [00:03<00:00, 122888.37it/s]\n"
     ]
    },
    {
     "data": {
      "text/html": [
       "<div>\n",
       "<style scoped>\n",
       "    .dataframe tbody tr th:only-of-type {\n",
       "        vertical-align: middle;\n",
       "    }\n",
       "\n",
       "    .dataframe tbody tr th {\n",
       "        vertical-align: top;\n",
       "    }\n",
       "\n",
       "    .dataframe thead th {\n",
       "        text-align: right;\n",
       "    }\n",
       "</style>\n",
       "<table border=\"1\" class=\"dataframe\">\n",
       "  <thead>\n",
       "    <tr style=\"text-align: right;\">\n",
       "      <th></th>\n",
       "      <th>user</th>\n",
       "      <th>item</th>\n",
       "      <th>trans_id</th>\n",
       "    </tr>\n",
       "  </thead>\n",
       "  <tbody>\n",
       "    <tr>\n",
       "      <th>454270</th>\n",
       "      <td>100021</td>\n",
       "      <td>4710105045443</td>\n",
       "      <td>0</td>\n",
       "    </tr>\n",
       "    <tr>\n",
       "      <th>451859</th>\n",
       "      <td>100021</td>\n",
       "      <td>4710063341090</td>\n",
       "      <td>0</td>\n",
       "    </tr>\n",
       "    <tr>\n",
       "      <th>455830</th>\n",
       "      <td>100021</td>\n",
       "      <td>4710339772139</td>\n",
       "      <td>0</td>\n",
       "    </tr>\n",
       "    <tr>\n",
       "      <th>467287</th>\n",
       "      <td>100021</td>\n",
       "      <td>4710094014741</td>\n",
       "      <td>1</td>\n",
       "    </tr>\n",
       "    <tr>\n",
       "      <th>460286</th>\n",
       "      <td>100021</td>\n",
       "      <td>9310042571491</td>\n",
       "      <td>1</td>\n",
       "    </tr>\n",
       "  </tbody>\n",
       "</table>\n",
       "</div>"
      ],
      "text/plain": [
       "          user           item  trans_id\n",
       "454270  100021  4710105045443         0\n",
       "451859  100021  4710063341090         0\n",
       "455830  100021  4710339772139         0\n",
       "467287  100021  4710094014741         1\n",
       "460286  100021  9310042571491         1"
      ]
     },
     "execution_count": 13,
     "metadata": {},
     "output_type": "execute_result"
    }
   ],
   "source": [
    "# exclude users with less than 10 transactions in total\n",
    "user = df_ta_feng.user.values[0]\n",
    "start = 0\n",
    "df_list = []\n",
    "train_test = [] # initial train_test indicator\n",
    "for i in tqdm(range(df_ta_feng.shape[0])): # find transactions of each customer\n",
    "    if df_ta_feng['user'].values[i] == user:\n",
    "        continue\n",
    "    df_user = df_ta_feng.iloc[start:i,:].copy()\n",
    "    if df_user.trans_id.max() > 9: \n",
    "        df_list.append(df_user)\n",
    "    user = df_ta_feng.user.values[i]\n",
    "    start = i\n",
    "df_ta_feng_filtered = pd.concat(df_list)\n",
    "df_ta_feng_filtered = df_ta_feng_filtered[['user', 'item', 'trans_id']]\n",
    "df_ta_feng_filtered.head(5)"
   ]
  },
  {
   "cell_type": "code",
   "execution_count": 14,
   "metadata": {},
   "outputs": [
    {
     "name": "stdout",
     "output_type": "stream",
     "text": [
      "After transaction filtering:\n",
      "   users: 1594\n",
      "   items: 8331\n"
     ]
    }
   ],
   "source": [
    "users = df_ta_feng_filtered.user.nunique()\n",
    "items = df_ta_feng_filtered.item.nunique()\n",
    "print(f\"After transaction filtering:\\n   users: {users}\\n   items: {items}\")"
   ]
  },
  {
   "cell_type": "code",
   "execution_count": 16,
   "metadata": {},
   "outputs": [
    {
     "name": "stdout",
     "output_type": "stream",
     "text": [
      "Dataset sparsity: 1.08%\n"
     ]
    }
   ],
   "source": [
    "sparsity = 1. * df_ta_feng_filtered.shape[0] / (users * items)\n",
    "print(f\"Dataset sparsity: {round(sparsity*100, 2)}%\")"
   ]
  },
  {
   "cell_type": "code",
   "execution_count": 18,
   "metadata": {},
   "outputs": [],
   "source": [
    "# structures used to numerize the id (ie. to associate incremental integers to have a continuous list of numbers as ids)\n",
    "users_id = pd.unique(df_ta_feng_filtered['user'])\n",
    "items_id = pd.unique(df_ta_feng_filtered['item'])"
   ]
  },
  {
   "cell_type": "code",
   "execution_count": 19,
   "metadata": {},
   "outputs": [],
   "source": [
    "item2id = dict((iid, i) for (i, iid) in enumerate(items_id))\n",
    "user2id = dict((uid, i) for (i, uid) in enumerate(users_id))"
   ]
  },
  {
   "cell_type": "code",
   "execution_count": 20,
   "metadata": {},
   "outputs": [
    {
     "data": {
      "text/html": [
       "<div>\n",
       "<style scoped>\n",
       "    .dataframe tbody tr th:only-of-type {\n",
       "        vertical-align: middle;\n",
       "    }\n",
       "\n",
       "    .dataframe tbody tr th {\n",
       "        vertical-align: top;\n",
       "    }\n",
       "\n",
       "    .dataframe thead th {\n",
       "        text-align: right;\n",
       "    }\n",
       "</style>\n",
       "<table border=\"1\" class=\"dataframe\">\n",
       "  <thead>\n",
       "    <tr style=\"text-align: right;\">\n",
       "      <th></th>\n",
       "      <th>user</th>\n",
       "      <th>item</th>\n",
       "      <th>tid</th>\n",
       "    </tr>\n",
       "  </thead>\n",
       "  <tbody>\n",
       "    <tr>\n",
       "      <th>454270</th>\n",
       "      <td>0</td>\n",
       "      <td>0</td>\n",
       "      <td>0</td>\n",
       "    </tr>\n",
       "    <tr>\n",
       "      <th>451859</th>\n",
       "      <td>0</td>\n",
       "      <td>1</td>\n",
       "      <td>0</td>\n",
       "    </tr>\n",
       "    <tr>\n",
       "      <th>455830</th>\n",
       "      <td>0</td>\n",
       "      <td>2</td>\n",
       "      <td>0</td>\n",
       "    </tr>\n",
       "    <tr>\n",
       "      <th>467287</th>\n",
       "      <td>0</td>\n",
       "      <td>3</td>\n",
       "      <td>1</td>\n",
       "    </tr>\n",
       "    <tr>\n",
       "      <th>460286</th>\n",
       "      <td>0</td>\n",
       "      <td>4</td>\n",
       "      <td>1</td>\n",
       "    </tr>\n",
       "    <tr>\n",
       "      <th>466455</th>\n",
       "      <td>0</td>\n",
       "      <td>5</td>\n",
       "      <td>1</td>\n",
       "    </tr>\n",
       "    <tr>\n",
       "      <th>399592</th>\n",
       "      <td>0</td>\n",
       "      <td>6</td>\n",
       "      <td>1</td>\n",
       "    </tr>\n",
       "    <tr>\n",
       "      <th>466130</th>\n",
       "      <td>0</td>\n",
       "      <td>7</td>\n",
       "      <td>1</td>\n",
       "    </tr>\n",
       "    <tr>\n",
       "      <th>399593</th>\n",
       "      <td>0</td>\n",
       "      <td>8</td>\n",
       "      <td>1</td>\n",
       "    </tr>\n",
       "    <tr>\n",
       "      <th>465712</th>\n",
       "      <td>0</td>\n",
       "      <td>9</td>\n",
       "      <td>1</td>\n",
       "    </tr>\n",
       "  </tbody>\n",
       "</table>\n",
       "</div>"
      ],
      "text/plain": [
       "        user  item  tid\n",
       "454270     0     0    0\n",
       "451859     0     1    0\n",
       "455830     0     2    0\n",
       "467287     0     3    1\n",
       "460286     0     4    1\n",
       "466455     0     5    1\n",
       "399592     0     6    1\n",
       "466130     0     7    1\n",
       "399593     0     8    1\n",
       "465712     0     9    1"
      ]
     },
     "execution_count": 20,
     "metadata": {},
     "output_type": "execute_result"
    }
   ],
   "source": [
    "numerized_data = df_ta_feng_filtered\n",
    "numerized_data.user = numerized_data.user.apply(lambda x: user2id[x])\n",
    "numerized_data.item = numerized_data.item.apply(lambda x: item2id[x])\n",
    "numerized_data = numerized_data.rename(columns={'trans_id': 'tid'})\n",
    "numerized_data.head(10)"
   ]
  },
  {
   "cell_type": "code",
   "execution_count": 21,
   "metadata": {},
   "outputs": [
    {
     "name": "stderr",
     "output_type": "stream",
     "text": [
      "100%|██████████| 143310/143310 [00:08<00:00, 16066.21it/s]\n",
      "/home/jb/.cache/pypoetry/virtualenvs/data-processing-for-seq-embeddings-reco-8_F3BWAW-py3.8/lib/python3.8/site-packages/numpy/core/_asarray.py:83: VisibleDeprecationWarning: Creating an ndarray from ragged nested sequences (which is a list-or-tuple of lists-or-tuples-or ndarrays with different lengths or shapes) is deprecated. If you meant to do this, you must specify 'dtype=object' when creating the ndarray\n",
      "  return array(a, dtype, copy=False, order=order)\n"
     ]
    }
   ],
   "source": [
    "# convert into sequences for each user\n",
    "start = 0\n",
    "df_dict_train = {}\n",
    "df_dict_test = {}\n",
    "df_dict_test_user_bool = {}\n",
    "buf_seq_train = []\n",
    "buf_seq_test = []\n",
    "user = numerized_data.user.values[0]\n",
    "\n",
    "for i in tqdm(range(numerized_data.shape[0])):\n",
    "    if numerized_data['user'].values[i] == user:\n",
    "        continue\n",
    "    df_user = numerized_data.iloc[start:i,:].copy()\n",
    "    user_known_items = set()\n",
    "\n",
    "    for j in range(0, df_user.tid.max() + 1):            \n",
    "        trans_items = set(df_user.loc[df_user.tid == j,'item'])\n",
    "        if not len(trans_items) == 0:\n",
    "            if j == df_user.tid.max():\n",
    "                test_trans_items = set()\n",
    "                for k in trans_items:\n",
    "                    if k not in user_known_items:\n",
    "                        test_trans_items.add(k)\n",
    "                if len(test_trans_items) == 0:\n",
    "                    df_dict_test_user_bool[user] = 0\n",
    "                else:\n",
    "                    df_dict_test_user_bool[user] = 1\n",
    "                buf_seq_test.append(test_trans_items)\n",
    "            else:    \n",
    "                for k in trans_items:\n",
    "                    user_known_items.add(k)\n",
    "                buf_seq_train.append(trans_items)\n",
    "    \n",
    "    df_dict_train[user] = buf_seq_train\n",
    "    df_dict_test[user] = buf_seq_test\n",
    "\n",
    "    buf_seq_test = []\n",
    "    buf_seq_train = []\n",
    "    user = numerized_data.user.values[i]\n",
    "    start = i    \n",
    "    \n",
    "sequences = pd.DataFrame()\n",
    "sequences['user'] = df_dict_train.keys()\n",
    "sequences['test_user'] = df_dict_test_user_bool.values()\n",
    "sequences['sequence_train'] = df_dict_train.values()\n",
    "sequences['sequence_test'] = df_dict_test.values()"
   ]
  },
  {
   "cell_type": "code",
   "execution_count": 22,
   "metadata": {},
   "outputs": [
    {
     "data": {
      "text/html": [
       "<div>\n",
       "<style scoped>\n",
       "    .dataframe tbody tr th:only-of-type {\n",
       "        vertical-align: middle;\n",
       "    }\n",
       "\n",
       "    .dataframe tbody tr th {\n",
       "        vertical-align: top;\n",
       "    }\n",
       "\n",
       "    .dataframe thead th {\n",
       "        text-align: right;\n",
       "    }\n",
       "</style>\n",
       "<table border=\"1\" class=\"dataframe\">\n",
       "  <thead>\n",
       "    <tr style=\"text-align: right;\">\n",
       "      <th></th>\n",
       "      <th>user</th>\n",
       "      <th>test_user</th>\n",
       "      <th>sequence_train</th>\n",
       "      <th>sequence_test</th>\n",
       "    </tr>\n",
       "  </thead>\n",
       "  <tbody>\n",
       "    <tr>\n",
       "      <th>1</th>\n",
       "      <td>1</td>\n",
       "      <td>1</td>\n",
       "      <td>[{80}, {80}, {81, 82}, {83, 84}, {81, 85, 86, ...</td>\n",
       "      <td>({124, 125},)</td>\n",
       "    </tr>\n",
       "    <tr>\n",
       "      <th>2</th>\n",
       "      <td>2</td>\n",
       "      <td>1</td>\n",
       "      <td>[{128, 16, 126, 127}, {129, 130}, {131, 132, 1...</td>\n",
       "      <td>({164, 165},)</td>\n",
       "    </tr>\n",
       "    <tr>\n",
       "      <th>3</th>\n",
       "      <td>3</td>\n",
       "      <td>1</td>\n",
       "      <td>[{168, 166, 167}, {169, 170, 171, 172, 173, 17...</td>\n",
       "      <td>({211, 212, 213},)</td>\n",
       "    </tr>\n",
       "    <tr>\n",
       "      <th>4</th>\n",
       "      <td>4</td>\n",
       "      <td>1</td>\n",
       "      <td>[{216, 214, 215}, {217, 218, 219, 220}, {224, ...</td>\n",
       "      <td>({279, 280, 281, 282, 283, 284, 285},)</td>\n",
       "    </tr>\n",
       "    <tr>\n",
       "      <th>5</th>\n",
       "      <td>5</td>\n",
       "      <td>1</td>\n",
       "      <td>[{288, 289, 290, 291, 286, 287}, {292, 293, 29...</td>\n",
       "      <td>({468},)</td>\n",
       "    </tr>\n",
       "    <tr>\n",
       "      <th>...</th>\n",
       "      <td>...</td>\n",
       "      <td>...</td>\n",
       "      <td>...</td>\n",
       "      <td>...</td>\n",
       "    </tr>\n",
       "    <tr>\n",
       "      <th>1588</th>\n",
       "      <td>1588</td>\n",
       "      <td>1</td>\n",
       "      <td>[{544, 587, 6832, 5910, 1116, 2879}, {159, 609...</td>\n",
       "      <td>({1001, 339, 967},)</td>\n",
       "    </tr>\n",
       "    <tr>\n",
       "      <th>1589</th>\n",
       "      <td>1589</td>\n",
       "      <td>1</td>\n",
       "      <td>[{1624, 577, 1116, 1541}, {448, 449, 450, 451,...</td>\n",
       "      <td>({963, 4550, 1323, 4245, 3482},)</td>\n",
       "    </tr>\n",
       "    <tr>\n",
       "      <th>1590</th>\n",
       "      <td>1590</td>\n",
       "      <td>1</td>\n",
       "      <td>[{4837, 841, 1211, 494, 242, 51, 1396, 1302, 1...</td>\n",
       "      <td>({225, 583, 1417, 6764, 2840},)</td>\n",
       "    </tr>\n",
       "    <tr>\n",
       "      <th>1591</th>\n",
       "      <td>1591</td>\n",
       "      <td>1</td>\n",
       "      <td>[{4185, 590}, {513}, {6650, 6573, 5431}, {1118...</td>\n",
       "      <td>({703, 1071},)</td>\n",
       "    </tr>\n",
       "    <tr>\n",
       "      <th>1592</th>\n",
       "      <td>1592</td>\n",
       "      <td>1</td>\n",
       "      <td>[{159, 773, 972, 3571, 219, 1119}, {195, 1477,...</td>\n",
       "      <td>({82},)</td>\n",
       "    </tr>\n",
       "  </tbody>\n",
       "</table>\n",
       "<p>1441 rows × 4 columns</p>\n",
       "</div>"
      ],
      "text/plain": [
       "      user  test_user                                     sequence_train  \\\n",
       "1        1          1  [{80}, {80}, {81, 82}, {83, 84}, {81, 85, 86, ...   \n",
       "2        2          1  [{128, 16, 126, 127}, {129, 130}, {131, 132, 1...   \n",
       "3        3          1  [{168, 166, 167}, {169, 170, 171, 172, 173, 17...   \n",
       "4        4          1  [{216, 214, 215}, {217, 218, 219, 220}, {224, ...   \n",
       "5        5          1  [{288, 289, 290, 291, 286, 287}, {292, 293, 29...   \n",
       "...    ...        ...                                                ...   \n",
       "1588  1588          1  [{544, 587, 6832, 5910, 1116, 2879}, {159, 609...   \n",
       "1589  1589          1  [{1624, 577, 1116, 1541}, {448, 449, 450, 451,...   \n",
       "1590  1590          1  [{4837, 841, 1211, 494, 242, 51, 1396, 1302, 1...   \n",
       "1591  1591          1  [{4185, 590}, {513}, {6650, 6573, 5431}, {1118...   \n",
       "1592  1592          1  [{159, 773, 972, 3571, 219, 1119}, {195, 1477,...   \n",
       "\n",
       "                               sequence_test  \n",
       "1                              ({124, 125},)  \n",
       "2                              ({164, 165},)  \n",
       "3                         ({211, 212, 213},)  \n",
       "4     ({279, 280, 281, 282, 283, 284, 285},)  \n",
       "5                                   ({468},)  \n",
       "...                                      ...  \n",
       "1588                     ({1001, 339, 967},)  \n",
       "1589        ({963, 4550, 1323, 4245, 3482},)  \n",
       "1590         ({225, 583, 1417, 6764, 2840},)  \n",
       "1591                          ({703, 1071},)  \n",
       "1592                                 ({82},)  \n",
       "\n",
       "[1441 rows x 4 columns]"
      ]
     },
     "execution_count": 22,
     "metadata": {},
     "output_type": "execute_result"
    }
   ],
   "source": [
    "sequences[sequences['test_user'] == 1]"
   ]
  },
  {
   "cell_type": "code",
   "execution_count": 23,
   "metadata": {},
   "outputs": [
    {
     "data": {
      "text/plain": [
       "[{544, 587, 1116, 2879, 5910, 6832},\n",
       " {159, 427, 609, 659, 767, 831, 1028, 1157, 4724, 5213},\n",
       " {292, 554, 2351, 3248, 5503},\n",
       " {1144, 4393, 5634},\n",
       " {154, 275, 878, 995, 1343, 1454, 1669, 2030, 2230, 5452, 5929, 7143},\n",
       " {154, 609, 844, 1089, 1669, 2084, 8329},\n",
       " {3371, 8119},\n",
       " {174, 558, 2788, 5101},\n",
       " {344, 863, 3009, 5752},\n",
       " {154, 544, 609, 844, 5101, 5237, 6822, 7333}]"
      ]
     },
     "execution_count": 23,
     "metadata": {},
     "output_type": "execute_result"
    }
   ],
   "source": [
    "sequences.at[1588, 'sequence_train']"
   ]
  },
  {
   "cell_type": "code",
   "execution_count": 24,
   "metadata": {},
   "outputs": [
    {
     "data": {
      "text/plain": [
       "({339, 967, 1001},)"
      ]
     },
     "execution_count": 24,
     "metadata": {},
     "output_type": "execute_result"
    }
   ],
   "source": [
    "sequences.at[1588, 'sequence_test']"
   ]
  }
 ],
 "metadata": {
  "kernelspec": {
   "display_name": "Python 3",
   "language": "python",
   "name": "python3"
  },
  "language_info": {
   "codemirror_mode": {
    "name": "ipython",
    "version": 3
   },
   "file_extension": ".py",
   "mimetype": "text/x-python",
   "name": "python",
   "nbconvert_exporter": "python",
   "pygments_lexer": "ipython3",
   "version": "3.8.3"
  }
 },
 "nbformat": 4,
 "nbformat_minor": 4
}
